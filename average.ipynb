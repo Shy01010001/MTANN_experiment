{
 "cells": [
  {
   "cell_type": "code",
   "execution_count": 1,
   "metadata": {},
   "outputs": [],
   "source": [
    "import scipy.ndimage as nd\n",
    "from matplotlib.pylab import plt\n",
    "import cv2\n",
    "import numpy as np\n",
    "from glob import glob\n",
    "from sklearn.cluster import KMeans\n",
    "from PIL import Image\n",
    "import matplotlib.pyplot as plt1\n",
    "import shutil\n",
    "import os\n",
    "from sklearn.cluster import AgglomerativeClustering\n",
    "from skimage.feature import blob_log\n",
    "import csv\n",
    "import codecs\n",
    "import xlwt\n",
    "from skimage import exposure\n",
    "from numpy.fft import *\n",
    "from sklearn.manifold import TSNE\n",
    "\n",
    "import time\n",
    "from matplotlib import interactive\n",
    "import matplotlib\n",
    "from mpl_toolkits.mplot3d import Axes3D\n",
    "from scipy.cluster.hierarchy import dendrogram,linkage,fcluster,maxRstat,inconsistent,maxinconsts\n",
    "from sklearn.cluster import AgglomerativeClustering\n",
    "import sklearn.metrics as sm\n",
    "from sklearn.base import BaseEstimator, ClusterMixin\n",
    "from sklearn.metrics.pairwise import pairwise_kernels\n",
    "from sklearn.utils import check_random_state\n",
    "import time\n",
    "from sklearn.decomposition import PCA\n",
    "from sklearn import metrics\n",
    "from pyclustertend import hopkins\n",
    "\n",
    "from tqdm import tqdm"
   ]
  },
  {
   "cell_type": "code",
   "execution_count": 32,
   "metadata": {},
   "outputs": [],
   "source": [
    "dirc=glob('./teaching_data/*')\n",
    "\n",
    "for d in dirc:\n",
    "\n",
    "    files=glob(d+'/*.tif')\n",
    "  \n",
    "    for f in files:\n",
    "       \n",
    "        print(f)\n",
    "        img=plt.imread(f)\n",
    "    \n",
    "        ori=plt.imread('./train_data/9*9*1/5242/116.tif')\n",
    "       \n",
    "        if '116' not in f:\n",
    "            continue\n",
    "        m=np.mean(ori)\n",
    "        new=np.zeros_like(img)\n",
    "\n",
    "        for i in range(len(img)):\n",
    "            for j in range(len(img[0])):\n",
    "                if img[i][j]>100:\n",
    "                    new[i][j]=img[i][j]\n",
    "                else:\n",
    "                    new[i][j]=m\n",
    "        \n",
    "        new=Image.fromarray(new)\n",
    "        new.save('./teaching_data/'+d.split('/')[-1]+'/average_'+f.split('/')[-1])"
   ]
  },
  {
   "cell_type": "code",
   "execution_count": 14,
   "metadata": {},
   "outputs": [
    {
     "ename": "NameError",
     "evalue": "name 'img' is not defined",
     "output_type": "error",
     "traceback": [
      "\u001b[0;31m---------------------------------------------------------------------------\u001b[0m",
      "\u001b[0;31mNameError\u001b[0m                                 Traceback (most recent call last)",
      "\u001b[0;32m<ipython-input-14-77a7949ba908>\u001b[0m in \u001b[0;36m<module>\u001b[0;34m\u001b[0m\n\u001b[0;32m----> 1\u001b[0;31m \u001b[0mimg\u001b[0m\u001b[0;34m\u001b[0m\u001b[0;34m\u001b[0m\u001b[0m\n\u001b[0m",
      "\u001b[0;31mNameError\u001b[0m: name 'img' is not defined"
     ]
    }
   ],
   "source": [
    "dirc=glob('./teaching_data/*')\n",
    "\n",
    "for d in dirc:\n",
    "\n",
    "    files=glob(d+'/*.tif')\n",
    "  \n",
    "    for f in files:"
   ]
  },
  {
   "cell_type": "code",
   "execution_count": 7,
   "metadata": {},
   "outputs": [],
   "source": [
    "SpecialCovKernel7= np.array([[0, 0, 1, 1, 1, 0, 0],\n",
    "[0, 1, 1, 1, 1, 1, 0],\n",
    "[1, 1, 1, 1, 1, 1, 1],\n",
    "[1, 1, 1, 1, 1, 1, 1],\n",
    "[1, 1, 1, 1, 1, 1, 1],\n",
    "[0, 1, 1, 1, 1, 1, 0],\n",
    "[0, 0, 1, 1, 1, 0, 0],]\n",
    ")\n",
    "SpecialCovKernel9= np.array([[0,0, 0, 1, 1, 1, 0, 0,0],\n",
    "[0,0, 1, 1, 1, 1, 1, 0,0],\n",
    "[0,1, 1, 1, 1, 1, 1, 1,0],\n",
    "[1,1, 1, 1, 1, 1, 1, 1,1],\n",
    "[1,1, 1, 1, 1, 1, 1, 1,1],\n",
    "[1,1, 1, 1, 1, 1, 1, 1,1],\n",
    "[0,1, 1, 1, 1, 1, 1, 1,0],\n",
    "[0,0, 1, 1, 1, 1, 1, 0,0],\n",
    "[0,0, 0, 1, 1, 1, 0, 0,0],]\n",
    ")"
   ]
  },
  {
   "cell_type": "code",
   "execution_count": 10,
   "metadata": {},
   "outputs": [
    {
     "data": {
      "text/plain": [
       "[]"
      ]
     },
     "execution_count": 10,
     "metadata": {},
     "output_type": "execute_result"
    }
   ],
   "source": [
    "glob('.teaching_data/7_7_5/5A_2/'+f_name+'/'+file.split('/')[-1]+'/*.tif')"
   ]
  },
  {
   "cell_type": "code",
   "execution_count": 12,
   "metadata": {},
   "outputs": [
    {
     "data": {
      "text/plain": [
       "'.teaching_data/7_7_5/5A_2/16_2/5/*.tif'"
      ]
     },
     "execution_count": 12,
     "metadata": {},
     "output_type": "execute_result"
    }
   ],
   "source": [
    "'.teaching_data/7_7_5/5A_2/'+f_name+'/'+file.split('/')[-1]+'/*.tif'"
   ]
  },
  {
   "cell_type": "code",
   "execution_count": 5,
   "metadata": {},
   "outputs": [
    {
     "ename": "NameError",
     "evalue": "name 'ave' is not defined",
     "output_type": "error",
     "traceback": [
      "\u001b[0;31m---------------------------------------------------------------------------\u001b[0m",
      "\u001b[0;31mNameError\u001b[0m                                 Traceback (most recent call last)",
      "\u001b[0;32m<ipython-input-5-0e4a844bad8d>\u001b[0m in \u001b[0;36m<module>\u001b[0;34m\u001b[0m\n\u001b[1;32m     47\u001b[0m         \u001b[0;32mpass\u001b[0m\u001b[0;34m\u001b[0m\u001b[0;34m\u001b[0m\u001b[0m\n\u001b[1;32m     48\u001b[0m \u001b[0;34m\u001b[0m\u001b[0m\n\u001b[0;32m---> 49\u001b[0;31m     \u001b[0mave\u001b[0m\u001b[0;34m=\u001b[0m\u001b[0mave\u001b[0m\u001b[0;34m/\u001b[0m\u001b[0;36m65536\u001b[0m\u001b[0;34m*\u001b[0m\u001b[0;36m255\u001b[0m\u001b[0;34m\u001b[0m\u001b[0;34m\u001b[0m\u001b[0m\n\u001b[0m\u001b[1;32m     50\u001b[0m     \u001b[0;32mfor\u001b[0m \u001b[0mi\u001b[0m \u001b[0;32min\u001b[0m \u001b[0mrange\u001b[0m\u001b[0;34m(\u001b[0m\u001b[0mlen\u001b[0m\u001b[0;34m(\u001b[0m\u001b[0mimg_var\u001b[0m\u001b[0;34m)\u001b[0m\u001b[0;34m)\u001b[0m\u001b[0;34m:\u001b[0m\u001b[0;34m\u001b[0m\u001b[0;34m\u001b[0m\u001b[0m\n\u001b[1;32m     51\u001b[0m         \u001b[0;32mfor\u001b[0m \u001b[0mj\u001b[0m \u001b[0;32min\u001b[0m \u001b[0mrange\u001b[0m\u001b[0;34m(\u001b[0m\u001b[0mlen\u001b[0m\u001b[0;34m(\u001b[0m\u001b[0mimg_var\u001b[0m\u001b[0;34m[\u001b[0m\u001b[0;36m0\u001b[0m\u001b[0;34m]\u001b[0m\u001b[0;34m)\u001b[0m\u001b[0;34m)\u001b[0m\u001b[0;34m:\u001b[0m\u001b[0;34m\u001b[0m\u001b[0;34m\u001b[0m\u001b[0m\n",
      "\u001b[0;31mNameError\u001b[0m: name 'ave' is not defined"
     ]
    }
   ],
   "source": [
    "##### average block ####\n",
    "kernel='7_7_7'\n",
    "x=kernel.split('_')[0]\n",
    "\n",
    "z=kernel.split('_')[-1]\n",
    "f_name='1'\n",
    "# dirc=glob('./train_data/'+kernel+'/430/*')\n",
    "dirc=glob(f'./train_data/{kernel}/5A_2/'+f_name+'/*')\n",
    "# dirc=['./image_dm3/normalization_6_atoms_type1/6.150048.tif']\n",
    "\n",
    "for file in dirc:\n",
    "\n",
    "    img_var=[]\n",
    "\n",
    "    imgs=sorted(glob(file+'/*.tif'))\n",
    "#     mask_f=glob('mask/'+file.split('/')[-1]+'/*.tif')\n",
    "    mask_f=glob(f'./teaching_data/{kernel}/5A_2/'+f_name+'/'+file.split('/')[-1]+'/*.tif')\n",
    "    gaussian_f=glob(f'./teaching_data/{kernel}/5A_2/'+f_name+'/'+file.split('/')[-1]+'/*.tif')\n",
    "#         mask_f=['./teaching_data/6_type1_48.tif']\n",
    "#         gaussian_f=['./teaching_data/6_type1_48.tif']\n",
    "    img_var=plt.imread(imgs[2])\n",
    "#         for img in imgs:\n",
    "#         img_var.append(plt.imread(imgs[3]))\n",
    "#     print(imgs)\n",
    "#         mask=plt.imread(mask_f[round(num_i/3)])\n",
    "#         gaussian=plt.imread(gaussian_f[round(num_i/3)])\n",
    "    mask=plt.imread(mask_f[0])\n",
    "    gaussian=plt.imread(gaussian_f[0])\n",
    "    img_var=np.array(img_var)[3:-3,3:-3]\n",
    "#     plt.imshow(mask,'gray')\n",
    "#     plt.pause(0.01)\n",
    "    result=np.zeros_like(mask,dtype='uint16')\n",
    "    \n",
    "    s=0\n",
    "    flag=0\n",
    "\n",
    "    for i in range(len(img_var)):\n",
    "        for j in range(len(img_var[0])):\n",
    "\n",
    "            if mask[i][j]==0:\n",
    "                s+=img_var[i][j]\n",
    "                flag+=1\n",
    "\n",
    "    try:\n",
    "        ave=s/flag\n",
    "    except:\n",
    "        pass\n",
    "    \n",
    "    ave=ave/65536*255\n",
    "    for i in range(len(img_var)):\n",
    "        for j in range(len(img_var[0])):\n",
    "            if mask[i][j]==0:\n",
    "                result[i][j]=ave\n",
    "            else:\n",
    "                result[i][j]=gaussian[i][j]\n",
    "\n",
    "#     plt.imshow(result,'gray')\n",
    "#     plt.pause(0.01)\n",
    "    rr=np.zeros((64,64))\n",
    "    for i in range(3,61):\n",
    "        for j in range(3,61):\n",
    "            rr[i][j]=result[i-3][j-3]\n",
    "    for i in range(64):\n",
    "        for j in range(64):\n",
    "            if rr[i][j]==0:\n",
    "                rr[i][j]=ave\n",
    "    print(rr.shape)\n",
    "    rr=rr.astype('uint8')\n",
    "    result=Image.fromarray(rr)\n",
    "#         result.save('./teaching_data/'+'{}_{}_{}'.format(x,x,z)+'/'+file.split('/')[-1]+'/'+gaussian_f[round(num_i/3)].split('/')[-1])\n",
    "#         result.save('./teaching_data/6_type1_48_avg.tif')\n",
    "    result.save(gaussian_f[0])\n",
    "#     6_type1_48_avg\n",
    "\n"
   ]
  },
  {
   "cell_type": "code",
   "execution_count": 12,
   "metadata": {},
   "outputs": [],
   "source": [
    "a=np.array()"
   ]
  },
  {
   "cell_type": "code",
   "execution_count": 15,
   "metadata": {},
   "outputs": [
    {
     "ename": "TypeError",
     "evalue": "only integer scalar arrays can be converted to a scalar index",
     "output_type": "error",
     "traceback": [
      "\u001b[0;31m---------------------------------------------------------------------------\u001b[0m",
      "\u001b[0;31mTypeError\u001b[0m                                 Traceback (most recent call last)",
      "\u001b[0;32m<ipython-input-15-f514efb7cb80>\u001b[0m in \u001b[0;36m<module>\u001b[0;34m\u001b[0m\n\u001b[0;32m----> 1\u001b[0;31m \u001b[0mnp\u001b[0m\u001b[0;34m.\u001b[0m\u001b[0mstack\u001b[0m\u001b[0;34m(\u001b[0m\u001b[0ma\u001b[0m\u001b[0;34m,\u001b[0m\u001b[0mnp\u001b[0m\u001b[0;34m.\u001b[0m\u001b[0marray\u001b[0m\u001b[0;34m(\u001b[0m\u001b[0;34m[\u001b[0m\u001b[0;36m2\u001b[0m\u001b[0;34m]\u001b[0m\u001b[0;34m)\u001b[0m\u001b[0;34m)\u001b[0m\u001b[0;34m\u001b[0m\u001b[0;34m\u001b[0m\u001b[0m\n\u001b[0m",
      "\u001b[0;32m~/anaconda3/lib/python3.8/site-packages/numpy/core/overrides.py\u001b[0m in \u001b[0;36mstack\u001b[0;34m(*args, **kwargs)\u001b[0m\n",
      "\u001b[0;32m~/anaconda3/lib/python3.8/site-packages/numpy/core/shape_base.py\u001b[0m in \u001b[0;36mstack\u001b[0;34m(arrays, axis, out)\u001b[0m\n\u001b[1;32m    427\u001b[0m \u001b[0;34m\u001b[0m\u001b[0m\n\u001b[1;32m    428\u001b[0m     \u001b[0mresult_ndim\u001b[0m \u001b[0;34m=\u001b[0m \u001b[0marrays\u001b[0m\u001b[0;34m[\u001b[0m\u001b[0;36m0\u001b[0m\u001b[0;34m]\u001b[0m\u001b[0;34m.\u001b[0m\u001b[0mndim\u001b[0m \u001b[0;34m+\u001b[0m \u001b[0;36m1\u001b[0m\u001b[0;34m\u001b[0m\u001b[0;34m\u001b[0m\u001b[0m\n\u001b[0;32m--> 429\u001b[0;31m     \u001b[0maxis\u001b[0m \u001b[0;34m=\u001b[0m \u001b[0mnormalize_axis_index\u001b[0m\u001b[0;34m(\u001b[0m\u001b[0maxis\u001b[0m\u001b[0;34m,\u001b[0m \u001b[0mresult_ndim\u001b[0m\u001b[0;34m)\u001b[0m\u001b[0;34m\u001b[0m\u001b[0;34m\u001b[0m\u001b[0m\n\u001b[0m\u001b[1;32m    430\u001b[0m \u001b[0;34m\u001b[0m\u001b[0m\n\u001b[1;32m    431\u001b[0m     \u001b[0msl\u001b[0m \u001b[0;34m=\u001b[0m \u001b[0;34m(\u001b[0m\u001b[0mslice\u001b[0m\u001b[0;34m(\u001b[0m\u001b[0;32mNone\u001b[0m\u001b[0;34m)\u001b[0m\u001b[0;34m,\u001b[0m\u001b[0;34m)\u001b[0m \u001b[0;34m*\u001b[0m \u001b[0maxis\u001b[0m \u001b[0;34m+\u001b[0m \u001b[0;34m(\u001b[0m\u001b[0m_nx\u001b[0m\u001b[0;34m.\u001b[0m\u001b[0mnewaxis\u001b[0m\u001b[0;34m,\u001b[0m\u001b[0;34m)\u001b[0m\u001b[0;34m\u001b[0m\u001b[0;34m\u001b[0m\u001b[0m\n",
      "\u001b[0;31mTypeError\u001b[0m: only integer scalar arrays can be converted to a scalar index"
     ]
    }
   ],
   "source": [
    "np.stack(a,np.array([2]))"
   ]
  },
  {
   "cell_type": "code",
   "execution_count": 14,
   "metadata": {},
   "outputs": [
    {
     "data": {
      "text/plain": [
       "array([[18763, 18763, 18763, ..., 18763, 18763, 18763],\n",
       "       [18763, 18763, 18763, ..., 18763, 18763, 18763],\n",
       "       [18763, 18763, 18763, ..., 18763, 18763, 18763],\n",
       "       ...,\n",
       "       [18763, 18763, 18763, ..., 18763, 18763, 18763],\n",
       "       [18763, 18763, 18763, ..., 18763, 18763, 18763],\n",
       "       [18763, 18763, 18763, ..., 18763, 18763, 18763]], dtype=uint16)"
      ]
     },
     "execution_count": 14,
     "metadata": {},
     "output_type": "execute_result"
    }
   ],
   "source": [
    "mask"
   ]
  },
  {
   "cell_type": "code",
   "execution_count": 53,
   "metadata": {},
   "outputs": [
    {
     "data": {
      "text/plain": [
       "['./teaching_data/7_7_7/430_4/4.300918.tif']"
      ]
     },
     "execution_count": 53,
     "metadata": {},
     "output_type": "execute_result"
    }
   ],
   "source": [
    "glob('./teaching_data/'+kernel+'/'+file.split('/')[-1]+'/*.tif')"
   ]
  },
  {
   "cell_type": "code",
   "execution_count": 25,
   "metadata": {},
   "outputs": [
    {
     "data": {
      "text/plain": [
       "'./train_data/9_9_1/*.tif'"
      ]
     },
     "execution_count": 25,
     "metadata": {},
     "output_type": "execute_result"
    }
   ],
   "source": [
    "'./train_data/'+'{}_{}_{}'.format(x,x,z)+'/*.tif'"
   ]
  },
  {
   "cell_type": "code",
   "execution_count": 25,
   "metadata": {},
   "outputs": [
    {
     "data": {
      "text/plain": [
       "['./train_data/7_7_5/5A_2/3/5.24.20020.tif',\n",
       " './train_data/7_7_5/5A_2/3/5.24.20021.tif',\n",
       " './train_data/7_7_5/5A_2/3/5.24.20022.tif',\n",
       " './train_data/7_7_5/5A_2/3/5.24.20023.tif',\n",
       " './train_data/7_7_5/5A_2/3/5.24.20024.tif']"
      ]
     },
     "execution_count": 25,
     "metadata": {},
     "output_type": "execute_result"
    }
   ],
   "source": [
    "imgs"
   ]
  },
  {
   "cell_type": "code",
   "execution_count": null,
   "metadata": {},
   "outputs": [],
   "source": []
  }
 ],
 "metadata": {
  "kernelspec": {
   "display_name": "Python 3",
   "language": "python",
   "name": "python3"
  },
  "language_info": {
   "codemirror_mode": {
    "name": "ipython",
    "version": 3
   },
   "file_extension": ".py",
   "mimetype": "text/x-python",
   "name": "python",
   "nbconvert_exporter": "python",
   "pygments_lexer": "ipython3",
   "version": "3.8.3"
  }
 },
 "nbformat": 4,
 "nbformat_minor": 4
}
